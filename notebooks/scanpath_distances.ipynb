{
 "cells": [
  {
   "cell_type": "markdown",
   "id": "005a072a-1984-416b-bba2-07e13591ebed",
   "metadata": {},
   "source": [
    "# scanpath distances"
   ]
  },
  {
   "cell_type": "code",
   "execution_count": null,
   "id": "b21ba74d-5cec-4fdb-ad20-cfbf59a5f01f",
   "metadata": {},
   "outputs": [],
   "source": [
    "# imports\n",
    "\n",
    "import numpy as np\n",
    "import pandas as pd\n",
    "%matplotlib widget\n",
    "import matplotlib.pyplot as plt\n",
    "from mpl_toolkits.mplot3d.art3d import Poly3DCollection\n",
    "import matplotlib.cm as cm\n",
    "from matplotlib.animation import FuncAnimation\n",
    "import itertools\n",
    "import random\n",
    "import seaborn as sns\n",
    "import os\n",
    "import sys\n",
    "module_path = os.path.abspath(os.path.join('..'))\n",
    "if module_path not in sys.path:\n",
    "    sys.path.append(module_path)\n",
    "    \n",
    "\n",
    "from src.d00_utils.TaskObjects import *\n",
    "from src.d03_processing.fixations.FixationProcessor import FixationProcessor\n",
    "from src.d03_processing.TimepointProcessor import TimepointProcessor\n",
    "from src.d01_data.fetch.fetch_viewings import fetch_viewings\n",
    "from src.d01_data.fetch.fetch_trials import fetch_trials\n",
    "from src.d01_data.fetch.fetch_fixations import fetch_fixations\n",
    "from src.d03_processing.aoi import collision_sphere_radius\n",
    "from src.d03_processing.feature_extract.to_viewing import to_viewing\n",
    "from src.d03_processing.fixations.FixAlgos import *\n",
    "from src.d03_processing.feature_calculate.viewing_compare_calcs import ea_td\n",
    "from src.d03_processing.feature_calculate.transition_calculations import *\n",
    "from src.d04_wrangling.add_ppt_info import get_ppts_by_group\n",
    "from src.d03_processing.feature_calculate.fix_sacc_calculations import n_fix, dwell_time\n",
    "from src.d03_processing.feature_calculate.edit_distance import levenshtein_ratio"
   ]
  },
  {
   "cell_type": "code",
   "execution_count": null,
   "id": "83f33a6b-4f7f-4969-a89a-6a8f325f4bc6",
   "metadata": {},
   "outputs": [],
   "source": [
    "n = 50\n",
    "\n",
    "all_trials = pd.read_csv(\"C:\\\\Users\\\\Luke\\\\Documents\\\\AlloEye\\\\data\\\\feature_saves\\\\all_real_trials.csv\")\n",
    "# all_trials = fetch_trials(\"all\")\n",
    "# n = len(all_trials)\n",
    "n_trials = len(all_trials)\n",
    "print(n_trials)\n",
    "r_inds = np.random.randint(0, n_trials, n)\n",
    "rand_trials = list(all_trials.trial_id.to_numpy()[r_inds])\n",
    "\n",
    "# # temp while bug fixed\n",
    "# for t in rand_trials:\n",
    "#     if '21r2' in t:\n",
    "#         rand_trials.remove(t)\n",
    "        \n",
    "viewings = []\n",
    "for t in rand_trials:\n",
    "    viewings.append(f\"{t}_enc\")\n",
    "    viewings.append(f\"{t}_ret\")\n",
    "print(viewings)"
   ]
  },
  {
   "cell_type": "code",
   "execution_count": null,
   "id": "bc783435-e85d-478b-a085-7dbdc6908fe8",
   "metadata": {},
   "outputs": [],
   "source": []
  },
  {
   "cell_type": "code",
   "execution_count": null,
   "id": "35d24e77-5db1-45cd-85d7-c77af829abe8",
   "metadata": {},
   "outputs": [],
   "source": []
  },
  {
   "cell_type": "code",
   "execution_count": null,
   "id": "22e07691-905e-4072-a451-140cb5231887",
   "metadata": {},
   "outputs": [],
   "source": []
  }
 ],
 "metadata": {
  "kernelspec": {
   "display_name": "Python [conda env:alloeyepy] *",
   "language": "python",
   "name": "conda-env-alloeyepy-py"
  },
  "language_info": {
   "codemirror_mode": {
    "name": "ipython",
    "version": 3
   },
   "file_extension": ".py",
   "mimetype": "text/x-python",
   "name": "python",
   "nbconvert_exporter": "python",
   "pygments_lexer": "ipython3",
   "version": "3.8.13"
  }
 },
 "nbformat": 4,
 "nbformat_minor": 5
}
