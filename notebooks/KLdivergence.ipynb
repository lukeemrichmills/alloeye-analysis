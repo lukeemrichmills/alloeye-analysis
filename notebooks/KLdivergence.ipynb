{
 "cells": [
  {
   "cell_type": "code",
   "execution_count": 6,
   "id": "ca4e9ef8-35bb-41d4-bcfe-ec6c747b74ab",
   "metadata": {},
   "outputs": [],
   "source": [
    "import numpy as np\n",
    "import pandas as pd"
   ]
  },
  {
   "cell_type": "code",
   "execution_count": 28,
   "id": "d603c777-8968-4179-b4ae-2c94659e6673",
   "metadata": {},
   "outputs": [
    {
     "data": {
      "text/plain": [
       "array([[0., 0., 0., 0., 0., 3., 0., 0.],\n",
       "       [0., 0., 0., 1., 0., 1., 1., 0.],\n",
       "       [0., 1., 0., 0., 0., 0., 0., 0.],\n",
       "       [0., 2., 0., 0., 0., 0., 0., 0.],\n",
       "       [0., 0., 0., 0., 0., 0., 0., 1.],\n",
       "       [2., 0., 0., 1., 0., 0., 2., 0.],\n",
       "       [1., 0., 1., 0., 1., 1., 0., 0.],\n",
       "       [0., 0., 0., 0., 0., 0., 0., 0.]])"
      ]
     },
     "execution_count": 28,
     "metadata": {},
     "output_type": "execute_result"
    }
   ],
   "source": [
    "p_matrix = np.array([[0.0, 0.0, 0.0, 0.0, 0.0, 0.10526315789473684, 0.05263157894736842, 0.0], \n",
    "                     [0.0, 0.0, 0.05263157894736842, 0.10526315789473684, 0.0, 0.0, 0.0, 0.0], \n",
    "                     [0.0, 0.0, 0.0, 0.0, 0.0, 0.0, 0.05263157894736842, 0.0], \n",
    "                     [0.0, 0.05263157894736842, 0.0, 0.0, 0.0, 0.05263157894736842, 0.0, 0.0], \n",
    "                     [0.0, 0.0, 0.0, 0.0, 0.0, 0.0, 0.05263157894736842, 0.0], \n",
    "                     [0.15789473684210525, 0.05263157894736842, 0.0, 0.0, 0.0, 0.0, 0.05263157894736842, 0.0], \n",
    "                     [0.0, 0.05263157894736842, 0.0, 0.0, 0.0, 0.10526315789473684, 0.0, 0.0], \n",
    "                     [0.0, 0.0, 0.0, 0.0, 0.05263157894736842, 0.0, 0.0, 0.0]]).T\n",
    "\n",
    "pd.DataFrame(p_matrix)\n",
    "min_prob = np.min(p_matrix[p_matrix != 0])\n",
    "t_matrix = p_matrix / min_prob\n"
   ]
  },
  {
   "cell_type": "code",
   "execution_count": 29,
   "id": "9c404e9a-fd66-4268-9205-f3996cac5539",
   "metadata": {},
   "outputs": [
    {
     "data": {
      "text/plain": [
       "14.0"
      ]
     },
     "execution_count": 29,
     "metadata": {},
     "output_type": "execute_result"
    }
   ],
   "source": [
    "np.sum(t_matrix)"
   ]
  },
  {
   "cell_type": "code",
   "execution_count": 37,
   "id": "7bc0cc5c-c1ee-491a-8ceb-a6b3f22b2ea3",
   "metadata": {},
   "outputs": [],
   "source": [
    "def converge_mat(p_matrix, it=1000):\n",
    "    q_matrix = p_matrix\n",
    "    for i in range(it):\n",
    "        q_matrix = np.matmul(q_matrix, p_matrix)\n",
    "    return q_matrix\n",
    "\n"
   ]
  },
  {
   "cell_type": "code",
   "execution_count": 30,
   "id": "73888427-735e-44a7-801c-ceeaee6be535",
   "metadata": {},
   "outputs": [],
   "source": [
    "def conditional_prob_matrix(transition_matrix, prob=False):\n",
    "    \"\"\"\n",
    "\n",
    "    :param transition_matrix:\n",
    "    :param prob:\n",
    "    :return:\n",
    "    \"\"\"\n",
    "    cond_matrix = np.array(np.zeros(transition_matrix.shape))\n",
    "    for i in range(len(transition_matrix)):\n",
    "        for j in range(len(transition_matrix)):\n",
    "            p_i = np.sum(transition_matrix[i, :])  # P(A and B)\n",
    "            p_ij = transition_matrix[i, j]          # P(B)\n",
    "\n",
    "            cond_matrix[i, j] = 0 if p_i == 0 else p_ij / p_i\n",
    "\n",
    "    return cond_matrix"
   ]
  },
  {
   "cell_type": "code",
   "execution_count": 41,
   "id": "0adb6fef-1704-4a56-81a1-380d47a36f0e",
   "metadata": {},
   "outputs": [
    {
     "data": {
      "text/html": [
       "<div>\n",
       "<style scoped>\n",
       "    .dataframe tbody tr th:only-of-type {\n",
       "        vertical-align: middle;\n",
       "    }\n",
       "\n",
       "    .dataframe tbody tr th {\n",
       "        vertical-align: top;\n",
       "    }\n",
       "\n",
       "    .dataframe thead th {\n",
       "        text-align: right;\n",
       "    }\n",
       "</style>\n",
       "<table border=\"1\" class=\"dataframe\">\n",
       "  <thead>\n",
       "    <tr style=\"text-align: right;\">\n",
       "      <th></th>\n",
       "      <th>0</th>\n",
       "      <th>1</th>\n",
       "      <th>2</th>\n",
       "      <th>3</th>\n",
       "      <th>4</th>\n",
       "      <th>5</th>\n",
       "      <th>6</th>\n",
       "      <th>7</th>\n",
       "    </tr>\n",
       "  </thead>\n",
       "  <tbody>\n",
       "    <tr>\n",
       "      <th>0</th>\n",
       "      <td>2.964394e-323</td>\n",
       "      <td>2.964394e-323</td>\n",
       "      <td>9.881313e-324</td>\n",
       "      <td>1.976263e-323</td>\n",
       "      <td>9.881313e-324</td>\n",
       "      <td>4.940656e-323</td>\n",
       "      <td>2.964394e-323</td>\n",
       "      <td>9.881313e-324</td>\n",
       "    </tr>\n",
       "    <tr>\n",
       "      <th>1</th>\n",
       "      <td>2.964394e-323</td>\n",
       "      <td>2.964394e-323</td>\n",
       "      <td>9.881313e-324</td>\n",
       "      <td>1.976263e-323</td>\n",
       "      <td>9.881313e-324</td>\n",
       "      <td>4.940656e-323</td>\n",
       "      <td>2.964394e-323</td>\n",
       "      <td>9.881313e-324</td>\n",
       "    </tr>\n",
       "    <tr>\n",
       "      <th>2</th>\n",
       "      <td>2.964394e-323</td>\n",
       "      <td>2.964394e-323</td>\n",
       "      <td>9.881313e-324</td>\n",
       "      <td>1.976263e-323</td>\n",
       "      <td>9.881313e-324</td>\n",
       "      <td>4.940656e-323</td>\n",
       "      <td>2.964394e-323</td>\n",
       "      <td>9.881313e-324</td>\n",
       "    </tr>\n",
       "    <tr>\n",
       "      <th>3</th>\n",
       "      <td>2.964394e-323</td>\n",
       "      <td>2.964394e-323</td>\n",
       "      <td>9.881313e-324</td>\n",
       "      <td>1.976263e-323</td>\n",
       "      <td>9.881313e-324</td>\n",
       "      <td>4.940656e-323</td>\n",
       "      <td>2.964394e-323</td>\n",
       "      <td>9.881313e-324</td>\n",
       "    </tr>\n",
       "    <tr>\n",
       "      <th>4</th>\n",
       "      <td>0.000000e+00</td>\n",
       "      <td>0.000000e+00</td>\n",
       "      <td>0.000000e+00</td>\n",
       "      <td>0.000000e+00</td>\n",
       "      <td>0.000000e+00</td>\n",
       "      <td>0.000000e+00</td>\n",
       "      <td>0.000000e+00</td>\n",
       "      <td>0.000000e+00</td>\n",
       "    </tr>\n",
       "    <tr>\n",
       "      <th>5</th>\n",
       "      <td>2.964394e-323</td>\n",
       "      <td>2.964394e-323</td>\n",
       "      <td>9.881313e-324</td>\n",
       "      <td>1.976263e-323</td>\n",
       "      <td>9.881313e-324</td>\n",
       "      <td>4.940656e-323</td>\n",
       "      <td>2.964394e-323</td>\n",
       "      <td>9.881313e-324</td>\n",
       "    </tr>\n",
       "    <tr>\n",
       "      <th>6</th>\n",
       "      <td>2.964394e-323</td>\n",
       "      <td>2.964394e-323</td>\n",
       "      <td>9.881313e-324</td>\n",
       "      <td>1.976263e-323</td>\n",
       "      <td>9.881313e-324</td>\n",
       "      <td>4.940656e-323</td>\n",
       "      <td>2.964394e-323</td>\n",
       "      <td>9.881313e-324</td>\n",
       "    </tr>\n",
       "    <tr>\n",
       "      <th>7</th>\n",
       "      <td>0.000000e+00</td>\n",
       "      <td>0.000000e+00</td>\n",
       "      <td>0.000000e+00</td>\n",
       "      <td>0.000000e+00</td>\n",
       "      <td>0.000000e+00</td>\n",
       "      <td>0.000000e+00</td>\n",
       "      <td>0.000000e+00</td>\n",
       "      <td>0.000000e+00</td>\n",
       "    </tr>\n",
       "  </tbody>\n",
       "</table>\n",
       "</div>"
      ],
      "text/plain": [
       "               0              1              2              3              4  \\\n",
       "0  2.964394e-323  2.964394e-323  9.881313e-324  1.976263e-323  9.881313e-324   \n",
       "1  2.964394e-323  2.964394e-323  9.881313e-324  1.976263e-323  9.881313e-324   \n",
       "2  2.964394e-323  2.964394e-323  9.881313e-324  1.976263e-323  9.881313e-324   \n",
       "3  2.964394e-323  2.964394e-323  9.881313e-324  1.976263e-323  9.881313e-324   \n",
       "4   0.000000e+00   0.000000e+00   0.000000e+00   0.000000e+00   0.000000e+00   \n",
       "5  2.964394e-323  2.964394e-323  9.881313e-324  1.976263e-323  9.881313e-324   \n",
       "6  2.964394e-323  2.964394e-323  9.881313e-324  1.976263e-323  9.881313e-324   \n",
       "7   0.000000e+00   0.000000e+00   0.000000e+00   0.000000e+00   0.000000e+00   \n",
       "\n",
       "               5              6              7  \n",
       "0  4.940656e-323  2.964394e-323  9.881313e-324  \n",
       "1  4.940656e-323  2.964394e-323  9.881313e-324  \n",
       "2  4.940656e-323  2.964394e-323  9.881313e-324  \n",
       "3  4.940656e-323  2.964394e-323  9.881313e-324  \n",
       "4   0.000000e+00   0.000000e+00   0.000000e+00  \n",
       "5  4.940656e-323  2.964394e-323  9.881313e-324  \n",
       "6  4.940656e-323  2.964394e-323  9.881313e-324  \n",
       "7   0.000000e+00   0.000000e+00   0.000000e+00  "
      ]
     },
     "execution_count": 41,
     "metadata": {},
     "output_type": "execute_result"
    }
   ],
   "source": [
    "cp_matrix = conditional_prob_matrix(t_matrix)\n",
    "conv_mat = converge_mat(cp_matrix, 100000)\n",
    "pd.DataFrame(conv_mat)"
   ]
  },
  {
   "cell_type": "code",
   "execution_count": 46,
   "id": "e1c3b410-8019-4b7e-af26-52cdab93174d",
   "metadata": {},
   "outputs": [
    {
     "name": "stderr",
     "output_type": "stream",
     "text": [
      "C:\\Users\\Luke\\AppData\\Local\\Temp\\ipykernel_21500\\3778682054.py:3: FutureWarning: Unlike other reduction functions (e.g. `skew`, `kurtosis`), the default behavior of `mode` typically preserves the axis it acts along. In SciPy 1.11.0, this behavior will change: the default value of `keepdims` will become False, the `axis` over which the statistic is taken will be eliminated, and the value None will no longer be accepted. Set `keepdims` to True or False to avoid this warning.\n",
      "  pi = np.array(stats.mode(conv_mat, axis =0))[0]\n"
     ]
    },
    {
     "data": {
      "text/plain": [
       "array([[0.15789474, 0.15789474, 0.05263158, 0.10526316, 0.05263158,\n",
       "        0.26315789, 0.15789474, 0.05263158]])"
      ]
     },
     "execution_count": 46,
     "metadata": {},
     "output_type": "execute_result"
    }
   ],
   "source": [
    "from scipy import stats\n",
    "\n",
    "pi = np.array(stats.mode(conv_mat, axis =0))[0]\n",
    "pi2 = pi / np.sum(pi)\n",
    "pi2"
   ]
  },
  {
   "cell_type": "code",
   "execution_count": 53,
   "id": "c3cf1390-8b47-41cc-9270-4f04c18cab62",
   "metadata": {},
   "outputs": [
    {
     "name": "stdout",
     "output_type": "stream",
     "text": [
      "obj1: 0.151, obj2: 0.091, obj3: 0.438, obj4: 0.169\n"
     ]
    }
   ],
   "source": [
    "total = 7000\n",
    "\n",
    "obj1 = 1058 / total\n",
    "obj2 = 634 / total\n",
    "obj3 = 3065 / total\n",
    "obj4 = 1183 / total\n",
    "print(f\"obj1: {obj1:.3f}, obj2: {obj2:.3f}, obj3: {obj3:.3f}, obj4: {obj4:.3f}\")"
   ]
  },
  {
   "cell_type": "code",
   "execution_count": 54,
   "id": "cc8194c0-1906-466f-bffd-d8a8eccaed28",
   "metadata": {},
   "outputs": [
    {
     "name": "stdout",
     "output_type": "stream",
     "text": [
      "obj1: 0.150, obj2: 0.100, obj3: 0.250, obj4: 0.150\n"
     ]
    }
   ],
   "source": [
    "total = 20\n",
    "\n",
    "obj1 = 3 / total\n",
    "obj2 = 2 / total\n",
    "obj3 = 5 / total\n",
    "obj4 = 3 / total\n",
    "print(f\"obj1: {obj1:.3f}, obj2: {obj2:.3f}, obj3: {obj3:.3f}, obj4: {obj4:.3f}\")"
   ]
  }
 ],
 "metadata": {
  "kernelspec": {
   "display_name": "Python 3 (ipykernel)",
   "language": "python",
   "name": "python3"
  },
  "language_info": {
   "codemirror_mode": {
    "name": "ipython",
    "version": 3
   },
   "file_extension": ".py",
   "mimetype": "text/x-python",
   "name": "python",
   "nbconvert_exporter": "python",
   "pygments_lexer": "ipython3",
   "version": "3.8.13"
  }
 },
 "nbformat": 4,
 "nbformat_minor": 5
}
