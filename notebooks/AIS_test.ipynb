{
 "cells": [
  {
   "cell_type": "code",
   "execution_count": 2,
   "id": "0c0e781f-0f54-4231-8708-7f8a1dfe39db",
   "metadata": {
    "pycharm": {
     "name": "#%%\n"
    }
   },
   "outputs": [],
   "source": [
    "## active information storage"
   ]
  },
  {
   "cell_type": "code",
   "execution_count": 2,
   "id": "6b875513-7d75-4a11-b8bd-1d64c55fb0ad",
   "metadata": {
    "pycharm": {
     "name": "#%%\n"
    }
   },
   "outputs": [],
   "source": [
    "# Import classes\n",
    "from idtxl.active_information_storage import ActiveInformationStorage\n",
    "from idtxl.data import Data\n",
    "\n",
    "# imports\n",
    "\n",
    "import numpy as np\n",
    "import pandas as pd\n",
    "%matplotlib widget\n",
    "import matplotlib.pyplot as plt\n",
    "from mpl_toolkits.mplot3d.art3d import Poly3DCollection\n",
    "import matplotlib.cm as cm\n",
    "from matplotlib.animation import FuncAnimation\n",
    "import itertools\n",
    "import random\n",
    "import seaborn as sns\n",
    "import os\n",
    "import sys\n",
    "module_path = os.path.abspath(os.path.join('..'))\n",
    "if module_path not in sys.path:\n",
    "    sys.path.append(module_path)\n",
    "    \n",
    "from src.d03_processing.BlinkProcessor import BlinkProcessor\n",
    "from src.d03_processing.fixations.SignalProcessor import SignalProcessor\n",
    "from src.d03_processing.fixations.GazeCollision import GazeCollision\n",
    "from src.d03_processing.fixations.VR_IDT import VR_IDT\n",
    "from src.d03_processing.fixations.I_VDT import I_VDT\n",
    "from src.d03_processing.fixations.I_HMM import I_HMM\n",
    "from src.d03_processing.BlinkProcessor import BlinkProcessor\n",
    "from src.d03_processing.fixations.SignalProcessor import SignalProcessor\n",
    "from src.d03_processing.fixations.I_VDT import I_VDT\n",
    "from src.d00_utils.TaskObjects import *\n",
    "from src.d03_processing.fixations.FixationProcessor import FixationProcessor\n",
    "from src.d03_processing.TimepointProcessor import TimepointProcessor\n",
    "from src.d01_data.fetch.fetch_timepoints import fetch_timepoints\n",
    "from src.d01_data.fetch.fetch_viewings import fetch_viewings\n",
    "from src.d01_data.fetch.fetch_trials import fetch_trials\n",
    "from src.d01_data.fetch.fetch_timepoints import fetch_timepoints\n",
    "from src.d03_processing.aoi import collision_sphere_radius\n",
    "from src.d03_processing.feature_extract.to_viewing import to_viewing\n",
    "from src.d03_processing.fixations.FixAlgos import *\n",
    "from src.d03_processing.feature_calculate.transition_calculations import external_fixations"
   ]
  },
  {
   "cell_type": "code",
   "execution_count": 3,
   "id": "c5aa804f-a6b2-49f1-b77e-15bb772aa062",
   "metadata": {
    "pycharm": {
     "name": "#%%\n"
    }
   },
   "outputs": [],
   "source": [
    "# a) Generate test data\n",
    "# data = Data()\n",
    "# data.generate_mute_data(n_samples=1000, n_replications=5)\n",
    "# print(data)\n",
    "\n",
    "# # b) Initialise analysis object and define settings\n",
    "# network_analysis = ActiveInformationStorage()\n",
    "# settings = {'cmi_estimator':  'JidtGaussianCMI',\n",
    "#             'max_lag': 5}\n",
    "\n",
    "# # c) Run analysis\n",
    "# results = network_analysis.analyse_network(settings=settings, data=data)\n",
    "\n",
    "# # d) Plot list of processes with significant AIS to console\n",
    "# print(results.get_significant_processes(fdr=False))"
   ]
  },
  {
   "cell_type": "code",
   "execution_count": 4,
   "id": "f143d258-3cdc-41fd-9aa4-d7685a691780",
   "metadata": {
    "pycharm": {
     "name": "#%%\n"
    }
   },
   "outputs": [
    {
     "name": "stdout",
     "output_type": "stream",
     "text": [
      "2915\n",
      "executing query\n",
      "SELECT * FROM \"alloeye_timepoint_viewing\" WHERE retrieval_epoch in ('na', 'view') and viewing_id in ('alloeye_17r2_1_enc', 'alloeye_17r2_1_ret') \n",
      "dataframe returned in 0.06688904762268066\n",
      "(941, 58)\n"
     ]
    }
   ],
   "source": [
    "# get viewings\n",
    "n = 1\n",
    "all_trials = pd.read_csv(\"C:\\\\Users\\\\Luke\\\\Documents\\\\AlloEye\\\\data\\\\feature_saves\\\\all_real_trials.csv\")\n",
    "n_trials = len(all_trials)\n",
    "print(n_trials)\n",
    "r_inds = np.random.randint(0, n_trials, n)\n",
    "rand_trials = list(all_trials.trial_id.to_numpy()[r_inds])\n",
    "\n",
    "# # temp while bug fixed\n",
    "# for t in rand_trials:\n",
    "#     if '21r2' in t:\n",
    "#         rand_trials.remove(t)\n",
    "        \n",
    "viewings = []\n",
    "for t in rand_trials:\n",
    "    viewings.append(f\"{t}_enc\")\n",
    "    viewings.append(f\"{t}_ret\")\n",
    "\n",
    "# viewings = ['alloeye_10r1_16_enc']\n",
    "timepoints = fetch_timepoints(\"all\", viewing_id=viewings)\n",
    "print(timepoints.shape)\n",
    "\n",
    "p_tps = []\n",
    "n_viewings = len(viewings)\n",
    "# preprocess\n",
    "for i in range(n_viewings):\n",
    "    # ind = random.randint(0, len(viewings)-1)\n",
    "    viewing = viewings[i]\n",
    "    # viewing = \"alloeye_52r2_17_ret\"\n",
    "\n",
    "    # print(viewing)\n",
    "    tps = timepoints[timepoints.viewing_id == viewing].reset_index(drop=True)\n",
    "    if tps is None or len(tps) < 2:\n",
    "        p_tps.append(None)\n",
    "        continue\n",
    "    # print(viewings[i])\n",
    "    # print(tps.shape)\n",
    "    s_tps = SignalProcessor.sandwiched_gp_filter(tps.copy(deep=True))\n",
    "    b_tps = BlinkProcessor(s_tps.copy(deep=True), max_blink_duration=1000, d_impute_threshold=0.16, impute_buffer_duration=8).timepoints\n",
    "    if b_tps is None:\n",
    "        print(f\"{viewing} all blinks?\")\n",
    "        p_tps.append(None)\n",
    "        continue\n",
    "    f_tps = SignalProcessor.filter_timepoints(b_tps.copy(deep=True))\n",
    "    p_tps.append(f_tps)\n",
    "\n",
    "# fixations\n",
    "\n",
    "algos = {'ivdt': I_VDT,\n",
    "         'gc': GazeCollision,\n",
    "         'idt': VR_IDT,\n",
    "         'ihmm': I_HMM\n",
    "        }\n",
    "algo_names = {}\n",
    "fix_dfs = {}\n",
    "for name in algos.keys():\n",
    "    fix_dfs.update({name: []})\n",
    "\n",
    "fix_tps = []\n",
    "for i in range(len(p_tps)):\n",
    "    tps = p_tps[i]\n",
    "    if tps is None:\n",
    "        fix_tps.append(None)\n",
    "        for name, _class in algos.items():\n",
    "            fix_dfs[name].append(None)\n",
    "        continue\n",
    "        \n",
    "    tps = BlinkProcessor.remove_missing(tps.copy(deep=True))\n",
    "    \n",
    "    for name, _class in algos.items():\n",
    "        instance = _class(tps)\n",
    "        algo_names.update({name: instance.method_name})\n",
    "        tps[f'{name}_fixation'] = instance.timepoints.fixation\n",
    "        fix_dfs[name].append(instance.fix_df)\n",
    "    \n",
    "    fix_tps.append(tps.copy(deep=True))\n",
    "\n",
    "    "
   ]
  },
  {
   "cell_type": "code",
   "execution_count": 6,
   "id": "15953765-e1a1-4ecc-a4d6-ac9c996ee573",
   "metadata": {
    "pycharm": {
     "name": "#%%\n"
    }
   },
   "outputs": [
    {
     "name": "stdout",
     "output_type": "stream",
     "text": [
      "4\n",
      "[1 2 3 4 2 4 2 3 4 3 2 2]\n",
      "Adding data with properties: 1 processes, 12 samples, 1 replications\n",
      "overwriting existing data\n",
      "int32\n",
      "\n",
      "####### analysing process 0 of [0]\n",
      "\n",
      "---------------------------- (1) include candidates\n",
      "[(0, 3), (0, 2), (0, 1), (0, 0)]\n",
      "testing candidate set: [(0, 1), (0, 2), (0, 3), (0, 4)]\n"
     ]
    },
    {
     "ename": "AssertionError",
     "evalue": "Maximum of var1 is larger than the alphabet size.",
     "output_type": "error",
     "traceback": [
      "\u001B[1;31m---------------------------------------------------------------------------\u001B[0m",
      "\u001B[1;31mAssertionError\u001B[0m                            Traceback (most recent call last)",
      "Input \u001B[1;32mIn [6]\u001B[0m, in \u001B[0;36m<cell line: 34>\u001B[1;34m()\u001B[0m\n\u001B[0;32m     26\u001B[0m settings \u001B[38;5;241m=\u001B[39m {\u001B[38;5;124m'\u001B[39m\u001B[38;5;124mcmi_estimator\u001B[39m\u001B[38;5;124m'\u001B[39m:  \u001B[38;5;124m'\u001B[39m\u001B[38;5;124mJidtDiscreteCMI\u001B[39m\u001B[38;5;124m'\u001B[39m,\n\u001B[0;32m     27\u001B[0m             \u001B[38;5;124m'\u001B[39m\u001B[38;5;124mmax_lag\u001B[39m\u001B[38;5;124m'\u001B[39m: \u001B[38;5;28mint\u001B[39m(np\u001B[38;5;241m.\u001B[39mfloor(\u001B[38;5;28mlen\u001B[39m(objects)\u001B[38;5;241m/\u001B[39m\u001B[38;5;241m3\u001B[39m)),\n\u001B[0;32m     28\u001B[0m            \u001B[38;5;124m'\u001B[39m\u001B[38;5;124mdiscretise_method\u001B[39m\u001B[38;5;124m'\u001B[39m: \u001B[38;5;124m'\u001B[39m\u001B[38;5;124mnone\u001B[39m\u001B[38;5;124m'\u001B[39m,\n\u001B[0;32m     29\u001B[0m            \u001B[38;5;124m'\u001B[39m\u001B[38;5;124mhistory\u001B[39m\u001B[38;5;124m'\u001B[39m: \u001B[38;5;241m5\u001B[39m, \n\u001B[0;32m     30\u001B[0m             \u001B[38;5;124m'\u001B[39m\u001B[38;5;124mdebug\u001B[39m\u001B[38;5;124m'\u001B[39m: \u001B[38;5;28;01mTrue\u001B[39;00m\n\u001B[0;32m     31\u001B[0m            }\n\u001B[0;32m     33\u001B[0m \u001B[38;5;66;03m# c) Run analysis\u001B[39;00m\n\u001B[1;32m---> 34\u001B[0m results \u001B[38;5;241m=\u001B[39m \u001B[43mnetwork_analysis\u001B[49m\u001B[38;5;241;43m.\u001B[39;49m\u001B[43manalyse_network\u001B[49m\u001B[43m(\u001B[49m\u001B[43msettings\u001B[49m\u001B[38;5;241;43m=\u001B[39;49m\u001B[43msettings\u001B[49m\u001B[43m,\u001B[49m\u001B[43m \u001B[49m\u001B[43mdata\u001B[49m\u001B[38;5;241;43m=\u001B[39;49m\u001B[43mdata\u001B[49m\u001B[43m)\u001B[49m\n\u001B[0;32m     36\u001B[0m \u001B[38;5;66;03m# d) Plot list of processes with significant AIS to console\u001B[39;00m\n\u001B[0;32m     37\u001B[0m \u001B[38;5;28mprint\u001B[39m(\u001B[38;5;124m'\u001B[39m\u001B[38;5;124mis significant?\u001B[39m\u001B[38;5;124m'\u001B[39m, results\u001B[38;5;241m.\u001B[39mget_significant_processes(fdr\u001B[38;5;241m=\u001B[39m\u001B[38;5;28;01mFalse\u001B[39;00m))\n",
      "File \u001B[1;32mc:\\users\\luke\\idtxl\\idtxl\\active_information_storage.py:138\u001B[0m, in \u001B[0;36mActiveInformationStorage.analyse_network\u001B[1;34m(self, settings, data, processes)\u001B[0m\n\u001B[0;32m    135\u001B[0m     \u001B[38;5;28;01mif\u001B[39;00m settings[\u001B[38;5;124m'\u001B[39m\u001B[38;5;124mverbose\u001B[39m\u001B[38;5;124m'\u001B[39m]:\n\u001B[0;32m    136\u001B[0m         \u001B[38;5;28mprint\u001B[39m(\u001B[38;5;124m'\u001B[39m\u001B[38;5;130;01m\\n\u001B[39;00m\u001B[38;5;124m####### analysing process \u001B[39m\u001B[38;5;132;01m{0}\u001B[39;00m\u001B[38;5;124m of \u001B[39m\u001B[38;5;132;01m{1}\u001B[39;00m\u001B[38;5;124m'\u001B[39m\u001B[38;5;241m.\u001B[39mformat(\n\u001B[0;32m    137\u001B[0m                                         processes[t], processes))\n\u001B[1;32m--> 138\u001B[0m     res_single \u001B[38;5;241m=\u001B[39m \u001B[38;5;28;43mself\u001B[39;49m\u001B[38;5;241;43m.\u001B[39;49m\u001B[43manalyse_single_process\u001B[49m\u001B[43m(\u001B[49m\n\u001B[0;32m    139\u001B[0m \u001B[43m        \u001B[49m\u001B[43msettings\u001B[49m\u001B[43m,\u001B[49m\u001B[43m \u001B[49m\u001B[43mdata\u001B[49m\u001B[43m,\u001B[49m\u001B[43m \u001B[49m\u001B[43mprocesses\u001B[49m\u001B[43m[\u001B[49m\u001B[43mt\u001B[49m\u001B[43m]\u001B[49m\u001B[43m)\u001B[49m\n\u001B[0;32m    140\u001B[0m     results\u001B[38;5;241m.\u001B[39mcombine_results(res_single)\n\u001B[0;32m    142\u001B[0m \u001B[38;5;66;03m# Get no. realisations actually used for estimation from single target\u001B[39;00m\n\u001B[0;32m    143\u001B[0m \u001B[38;5;66;03m# analysis.\u001B[39;00m\n",
      "File \u001B[1;32mc:\\users\\luke\\idtxl\\idtxl\\active_information_storage.py:225\u001B[0m, in \u001B[0;36mActiveInformationStorage.analyse_single_process\u001B[1;34m(self, settings, data, process)\u001B[0m\n\u001B[0;32m    223\u001B[0m \u001B[38;5;66;03m# Main algorithm.\u001B[39;00m\n\u001B[0;32m    224\u001B[0m \u001B[38;5;28mprint\u001B[39m(\u001B[38;5;124m'\u001B[39m\u001B[38;5;130;01m\\n\u001B[39;00m\u001B[38;5;124m---------------------------- (1) include candidates\u001B[39m\u001B[38;5;124m'\u001B[39m)\n\u001B[1;32m--> 225\u001B[0m \u001B[38;5;28;43mself\u001B[39;49m\u001B[38;5;241;43m.\u001B[39;49m\u001B[43m_include_process_candidates\u001B[49m\u001B[43m(\u001B[49m\u001B[43mdata\u001B[49m\u001B[43m)\u001B[49m\n\u001B[0;32m    226\u001B[0m \u001B[38;5;28mprint\u001B[39m(\u001B[38;5;124m'\u001B[39m\u001B[38;5;130;01m\\n\u001B[39;00m\u001B[38;5;124m---------------------------- (2) prune source candidates\u001B[39m\u001B[38;5;124m'\u001B[39m)\n\u001B[0;32m    227\u001B[0m \u001B[38;5;28mself\u001B[39m\u001B[38;5;241m.\u001B[39m_prune_candidates(data)\n",
      "File \u001B[1;32mc:\\users\\luke\\idtxl\\idtxl\\active_information_storage.py:336\u001B[0m, in \u001B[0;36mActiveInformationStorage._include_process_candidates\u001B[1;34m(self, data)\u001B[0m\n\u001B[0;32m    334\u001B[0m candidates \u001B[38;5;241m=\u001B[39m \u001B[38;5;28mself\u001B[39m\u001B[38;5;241m.\u001B[39m_define_candidates(process, samples)\n\u001B[0;32m    335\u001B[0m \u001B[38;5;28mprint\u001B[39m(candidates)\n\u001B[1;32m--> 336\u001B[0m \u001B[38;5;28;43mself\u001B[39;49m\u001B[38;5;241;43m.\u001B[39;49m\u001B[43m_include_candidates\u001B[49m\u001B[43m(\u001B[49m\u001B[43mcandidates\u001B[49m\u001B[43m,\u001B[49m\u001B[43m \u001B[49m\u001B[43mdata\u001B[49m\u001B[43m)\u001B[49m\n",
      "File \u001B[1;32mc:\\users\\luke\\idtxl\\idtxl\\active_information_storage.py:371\u001B[0m, in \u001B[0;36mActiveInformationStorage._include_candidates\u001B[1;34m(self, candidate_set, data)\u001B[0m\n\u001B[0;32m    369\u001B[0m \u001B[38;5;66;03m# Calculate the (C)MI for each candidate and the target.\u001B[39;00m\n\u001B[0;32m    370\u001B[0m \u001B[38;5;28;01mtry\u001B[39;00m:\n\u001B[1;32m--> 371\u001B[0m     temp_te \u001B[38;5;241m=\u001B[39m \u001B[38;5;28;43mself\u001B[39;49m\u001B[38;5;241;43m.\u001B[39;49m\u001B[43m_cmi_estimator\u001B[49m\u001B[38;5;241;43m.\u001B[39;49m\u001B[43mestimate_parallel\u001B[49m\u001B[43m(\u001B[49m\n\u001B[0;32m    372\u001B[0m \u001B[43m                    \u001B[49m\u001B[43mn_chunks\u001B[49m\u001B[38;5;241;43m=\u001B[39;49m\u001B[38;5;28;43mlen\u001B[39;49m\u001B[43m(\u001B[49m\u001B[43mcandidate_set\u001B[49m\u001B[43m)\u001B[49m\u001B[43m,\u001B[49m\n\u001B[0;32m    373\u001B[0m \u001B[43m                    \u001B[49m\u001B[43mre_use\u001B[49m\u001B[38;5;241;43m=\u001B[39;49m\u001B[43m[\u001B[49m\u001B[38;5;124;43m'\u001B[39;49m\u001B[38;5;124;43mvar2\u001B[39;49m\u001B[38;5;124;43m'\u001B[39;49m\u001B[43m,\u001B[49m\u001B[43m \u001B[49m\u001B[38;5;124;43m'\u001B[39;49m\u001B[38;5;124;43mconditional\u001B[39;49m\u001B[38;5;124;43m'\u001B[39;49m\u001B[43m]\u001B[49m\u001B[43m,\u001B[49m\n\u001B[0;32m    374\u001B[0m \u001B[43m                    \u001B[49m\u001B[43mvar1\u001B[49m\u001B[38;5;241;43m=\u001B[39;49m\u001B[43mcand_real\u001B[49m\u001B[43m,\u001B[49m\n\u001B[0;32m    375\u001B[0m \u001B[43m                    \u001B[49m\u001B[43mvar2\u001B[49m\u001B[38;5;241;43m=\u001B[39;49m\u001B[38;5;28;43mself\u001B[39;49m\u001B[38;5;241;43m.\u001B[39;49m\u001B[43m_current_value_realisations\u001B[49m\u001B[43m,\u001B[49m\n\u001B[0;32m    376\u001B[0m \u001B[43m                    \u001B[49m\u001B[43mconditional\u001B[49m\u001B[38;5;241;43m=\u001B[39;49m\u001B[38;5;28;43mself\u001B[39;49m\u001B[38;5;241;43m.\u001B[39;49m\u001B[43m_selected_vars_realisations\u001B[49m\u001B[43m)\u001B[49m\n\u001B[0;32m    377\u001B[0m \u001B[38;5;28;01mexcept\u001B[39;00m ex\u001B[38;5;241m.\u001B[39mAlgorithmExhaustedError \u001B[38;5;28;01mas\u001B[39;00m aee:\n\u001B[0;32m    378\u001B[0m     \u001B[38;5;66;03m# The algorithm cannot continue here, so\u001B[39;00m\n\u001B[0;32m    379\u001B[0m     \u001B[38;5;66;03m#  we'll terminate the search for more candidates,\u001B[39;00m\n\u001B[0;32m    380\u001B[0m     \u001B[38;5;66;03m#  though those identified already remain valid\u001B[39;00m\n\u001B[0;32m    381\u001B[0m     \u001B[38;5;28mprint\u001B[39m(\u001B[38;5;124m'\u001B[39m\u001B[38;5;124mAlgorithmExhaustedError encountered in \u001B[39m\u001B[38;5;124m'\u001B[39m\n\u001B[0;32m    382\u001B[0m           \u001B[38;5;124m'\u001B[39m\u001B[38;5;124mestimations: \u001B[39m\u001B[38;5;124m'\u001B[39m \u001B[38;5;241m+\u001B[39m aee\u001B[38;5;241m.\u001B[39mmessage)\n",
      "File \u001B[1;32mc:\\users\\luke\\idtxl\\idtxl\\estimator.py:330\u001B[0m, in \u001B[0;36mEstimator.estimate_parallel\u001B[1;34m(self, n_chunks, re_use, **data)\u001B[0m\n\u001B[0;32m    325\u001B[0m         \u001B[38;5;28;01massert\u001B[39;00m data[v]\u001B[38;5;241m.\u001B[39mshape[\u001B[38;5;241m0\u001B[39m] \u001B[38;5;241m==\u001B[39m chunk_size, (\n\u001B[0;32m    326\u001B[0m             \u001B[38;5;124m'\u001B[39m\u001B[38;5;124mNo. samples in variable \u001B[39m\u001B[38;5;132;01m{0}\u001B[39;00m\u001B[38;5;124m (\u001B[39m\u001B[38;5;132;01m{1}\u001B[39;00m\u001B[38;5;124m) is not equal \u001B[39m\u001B[38;5;124m'\u001B[39m\n\u001B[0;32m    327\u001B[0m             \u001B[38;5;124m'\u001B[39m\u001B[38;5;124mto chunk size (\u001B[39m\u001B[38;5;132;01m{2}\u001B[39;00m\u001B[38;5;124m).\u001B[39m\u001B[38;5;124m'\u001B[39m\u001B[38;5;241m.\u001B[39mformat(\n\u001B[0;32m    328\u001B[0m                 v, data[v]\u001B[38;5;241m.\u001B[39mshape[\u001B[38;5;241m0\u001B[39m], chunk_size))\n\u001B[0;32m    329\u001B[0m     chunk_data[v] \u001B[38;5;241m=\u001B[39m data[v]\n\u001B[1;32m--> 330\u001B[0m results[i] \u001B[38;5;241m=\u001B[39m \u001B[38;5;28;43mself\u001B[39;49m\u001B[38;5;241;43m.\u001B[39;49m\u001B[43mestimate\u001B[49m\u001B[43m(\u001B[49m\u001B[38;5;241;43m*\u001B[39;49m\u001B[38;5;241;43m*\u001B[39;49m\u001B[43mchunk_data\u001B[49m\u001B[43m)\u001B[49m\n\u001B[0;32m    331\u001B[0m idx_1 \u001B[38;5;241m=\u001B[39m idx_2\n\u001B[0;32m    332\u001B[0m idx_2 \u001B[38;5;241m+\u001B[39m\u001B[38;5;241m=\u001B[39m chunk_size\n",
      "File \u001B[1;32mc:\\users\\luke\\idtxl\\idtxl\\estimators_jidt.py:577\u001B[0m, in \u001B[0;36mJidtDiscreteCMI.estimate\u001B[1;34m(self, var1, var2, conditional, return_calc)\u001B[0m\n\u001B[0;32m    573\u001B[0m \u001B[38;5;66;03m# Calculate an MI if no conditional was provided\u001B[39;00m\n\u001B[0;32m    574\u001B[0m \u001B[38;5;28;01mif\u001B[39;00m (conditional \u001B[38;5;129;01mis\u001B[39;00m \u001B[38;5;28;01mNone\u001B[39;00m) \u001B[38;5;129;01mor\u001B[39;00m (\u001B[38;5;28mself\u001B[39m\u001B[38;5;241m.\u001B[39msettings[\u001B[38;5;124m'\u001B[39m\u001B[38;5;124malphc\u001B[39m\u001B[38;5;124m'\u001B[39m] \u001B[38;5;241m==\u001B[39m \u001B[38;5;241m0\u001B[39m):\n\u001B[0;32m    575\u001B[0m     \u001B[38;5;66;03m# Return value will be just the estimate if return_calc is False,\u001B[39;00m\n\u001B[0;32m    576\u001B[0m     \u001B[38;5;66;03m#  or estimate plus the JIDT MI calculator if return_calc is True:\u001B[39;00m\n\u001B[1;32m--> 577\u001B[0m     \u001B[38;5;28;01mreturn\u001B[39;00m \u001B[38;5;28;43mself\u001B[39;49m\u001B[38;5;241;43m.\u001B[39;49m\u001B[43mmi_calc\u001B[49m\u001B[38;5;241;43m.\u001B[39;49m\u001B[43mestimate\u001B[49m\u001B[43m(\u001B[49m\u001B[43mvar1\u001B[49m\u001B[43m,\u001B[49m\u001B[43m \u001B[49m\u001B[43mvar2\u001B[49m\u001B[43m,\u001B[49m\u001B[43m \u001B[49m\u001B[43mreturn_calc\u001B[49m\u001B[43m)\u001B[49m\n\u001B[0;32m    578\u001B[0m \u001B[38;5;28;01melse\u001B[39;00m:\n\u001B[0;32m    579\u001B[0m     \u001B[38;5;28;01massert\u001B[39;00m(conditional\u001B[38;5;241m.\u001B[39msize \u001B[38;5;241m!=\u001B[39m \u001B[38;5;241m0\u001B[39m), \u001B[38;5;124m'\u001B[39m\u001B[38;5;124mConditional Array is empty.\u001B[39m\u001B[38;5;124m'\u001B[39m\n",
      "File \u001B[1;32mc:\\users\\luke\\idtxl\\idtxl\\estimators_jidt.py:755\u001B[0m, in \u001B[0;36mJidtDiscreteMI.estimate\u001B[1;34m(self, var1, var2, return_calc)\u001B[0m\n\u001B[0;32m    752\u001B[0m var2_dim \u001B[38;5;241m=\u001B[39m var2\u001B[38;5;241m.\u001B[39mshape[\u001B[38;5;241m1\u001B[39m]\n\u001B[0;32m    754\u001B[0m \u001B[38;5;66;03m# Discretise variables if requested.\u001B[39;00m\n\u001B[1;32m--> 755\u001B[0m var1, var2 \u001B[38;5;241m=\u001B[39m \u001B[38;5;28;43mself\u001B[39;49m\u001B[38;5;241;43m.\u001B[39;49m\u001B[43m_discretise_vars\u001B[49m\u001B[43m(\u001B[49m\u001B[43mvar1\u001B[49m\u001B[43m,\u001B[49m\u001B[43m \u001B[49m\u001B[43mvar2\u001B[49m\u001B[43m)\u001B[49m\n\u001B[0;32m    757\u001B[0m \u001B[38;5;66;03m# Then collapse any mulitvariates into univariate arrays:\u001B[39;00m\n\u001B[0;32m    758\u001B[0m var1 \u001B[38;5;241m=\u001B[39m utils\u001B[38;5;241m.\u001B[39mcombine_discrete_dimensions(var1, \u001B[38;5;28mself\u001B[39m\u001B[38;5;241m.\u001B[39msettings[\u001B[38;5;124m'\u001B[39m\u001B[38;5;124malph1\u001B[39m\u001B[38;5;124m'\u001B[39m])\n",
      "File \u001B[1;32mc:\\users\\luke\\idtxl\\idtxl\\estimators_jidt.py:230\u001B[0m, in \u001B[0;36mJidtDiscrete._discretise_vars\u001B[1;34m(self, var1, var2, conditional)\u001B[0m\n\u001B[0;32m    228\u001B[0m \u001B[38;5;28;01massert\u001B[39;00m np\u001B[38;5;241m.\u001B[39mmin(var1) \u001B[38;5;241m>\u001B[39m\u001B[38;5;241m=\u001B[39m \u001B[38;5;241m0\u001B[39m, \u001B[38;5;124m'\u001B[39m\u001B[38;5;124mMinimum of var1 is smaller than 0.\u001B[39m\u001B[38;5;124m'\u001B[39m\n\u001B[0;32m    229\u001B[0m \u001B[38;5;28;01massert\u001B[39;00m np\u001B[38;5;241m.\u001B[39mmin(var2) \u001B[38;5;241m>\u001B[39m\u001B[38;5;241m=\u001B[39m \u001B[38;5;241m0\u001B[39m, \u001B[38;5;124m'\u001B[39m\u001B[38;5;124mMinimum of var2 is smaller than 0.\u001B[39m\u001B[38;5;124m'\u001B[39m\n\u001B[1;32m--> 230\u001B[0m \u001B[38;5;28;01massert\u001B[39;00m np\u001B[38;5;241m.\u001B[39mmax(var1) \u001B[38;5;241m<\u001B[39m \u001B[38;5;28mself\u001B[39m\u001B[38;5;241m.\u001B[39msettings[\u001B[38;5;124m'\u001B[39m\u001B[38;5;124malph1\u001B[39m\u001B[38;5;124m'\u001B[39m], (\n\u001B[0;32m    231\u001B[0m             \u001B[38;5;124m'\u001B[39m\u001B[38;5;124mMaximum of var1 is larger than the alphabet size.\u001B[39m\u001B[38;5;124m'\u001B[39m)\n\u001B[0;32m    232\u001B[0m \u001B[38;5;28;01massert\u001B[39;00m np\u001B[38;5;241m.\u001B[39mmax(var2) \u001B[38;5;241m<\u001B[39m \u001B[38;5;28mself\u001B[39m\u001B[38;5;241m.\u001B[39msettings[\u001B[38;5;124m'\u001B[39m\u001B[38;5;124malph2\u001B[39m\u001B[38;5;124m'\u001B[39m], (\n\u001B[0;32m    233\u001B[0m             \u001B[38;5;124m'\u001B[39m\u001B[38;5;124mMaximum of var2 is larger than the alphabet size.\u001B[39m\u001B[38;5;124m'\u001B[39m)\n\u001B[0;32m    234\u001B[0m \u001B[38;5;28;01mif\u001B[39;00m conditional \u001B[38;5;129;01mis\u001B[39;00m \u001B[38;5;129;01mnot\u001B[39;00m \u001B[38;5;28;01mNone\u001B[39;00m:\n",
      "\u001B[1;31mAssertionError\u001B[0m: Maximum of var1 is larger than the alphabet size."
     ]
    }
   ],
   "source": [
    "algo = 'ivdt'\n",
    "fix_dfs\n",
    "df = fix_dfs[algo][0]\n",
    "df = df[df.fixation_or_saccade == 'fixation'].reset_index(drop=True)\n",
    "df = external_fixations(df)\n",
    "df.head(20)\n",
    "\n",
    "# define data for one fixation sequence\n",
    "objects = df.object.to_numpy()\n",
    "uniques = np.unique(objects)   # get number of AOIs\n",
    "print(len(uniques))\n",
    "\n",
    "# convert to unique integers\n",
    "for i, o in enumerate(uniques):\n",
    "    objects = np.where(objects == o, i+1, objects)\n",
    "objects = np.array(objects, dtype=int)\n",
    "print(objects)\n",
    "\n",
    "# define Data class instance\n",
    "data = Data(objects, dim_order='s', normalise=False)\n",
    "print(data.data.dtype)\n",
    "\n",
    "# Initialise analysis object and define settings\n",
    "# NOTE: this finally worked for me after defining 'n_discrete_bins' as the number of AOIs\n",
    "network_analysis = ActiveInformationStorage()\n",
    "settings = {'cmi_estimator':  'JidtDiscreteCMI',\n",
    "            'max_lag': int(np.floor(len(objects)/3)),\n",
    "           'discretise_method': 'none',\n",
    "           'history': 5, \n",
    "            'debug': True\n",
    "           }\n",
    "\n",
    "# c) Run analysis\n",
    "results = network_analysis.analyse_network(settings=settings, data=data)\n",
    "\n",
    "# d) Plot list of processes with significant AIS to console\n",
    "print('is significant?', results.get_significant_processes(fdr=False))\n",
    "results_dict = results.get_single_process(0, fdr=False)\n",
    "print(results.get_single_process(0, fdr=False))"
   ]
  },
  {
   "cell_type": "code",
   "execution_count": null,
   "id": "02a4af0a-58a8-42bf-b637-b4e2a4ba805b",
   "metadata": {
    "pycharm": {
     "name": "#%%\n"
    }
   },
   "outputs": [],
   "source": [
    "results_dict.selected_vars"
   ]
  }
 ],
 "metadata": {
  "kernelspec": {
   "display_name": "Python [conda env:alloeyepy] *",
   "language": "python",
   "name": "conda-env-alloeyepy-py"
  },
  "language_info": {
   "codemirror_mode": {
    "name": "ipython",
    "version": 3
   },
   "file_extension": ".py",
   "mimetype": "text/x-python",
   "name": "python",
   "nbconvert_exporter": "python",
   "pygments_lexer": "ipython3",
   "version": "3.8.13"
  }
 },
 "nbformat": 4,
 "nbformat_minor": 5
}