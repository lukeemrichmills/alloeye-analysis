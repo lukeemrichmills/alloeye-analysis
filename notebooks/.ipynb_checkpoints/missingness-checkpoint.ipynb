{
 "cells": [
  {
   "cell_type": "code",
   "execution_count": 1,
   "id": "363f6d50-259d-4a1e-98b4-cceb1ed99be4",
   "metadata": {},
   "outputs": [],
   "source": [
    "import numpy as np\n",
    "import pandas as pd\n",
    "%matplotlib widget\n",
    "import matplotlib.pyplot as plt\n",
    "from mpl_toolkits.mplot3d.art3d import Poly3DCollection\n",
    "import matplotlib.cm as cm\n",
    "import itertools\n",
    "\n",
    "import seaborn as sns\n",
    "import os\n",
    "import sys\n",
    "module_path = os.path.abspath(os.path.join('..'))\n",
    "if module_path not in sys.path:\n",
    "    sys.path.append(module_path)\n",
    "    \n",
    "from src.d03_processing.BlinkProcessor import BlinkProcessor\n",
    "from src.d03_processing.fixations.SignalProcessor import SignalProcessor\n",
    "from src.d03_processing.fixations.GazeCollision import GazeCollision\n",
    "from src.d00_utils.TaskObjects import *\n",
    "from src.d03_processing.fixations.FixationProcessor import FixationProcessor\n",
    "from src.d03_processing.TimepointProcessor import TimepointProcessor\n",
    "from src.d01_data.fetch.fetch_timepoints import fetch_timepoints\n",
    "from src.d03_processing.aoi import collision_sphere_radius\n",
    "import random"
   ]
  },
  {
   "cell_type": "code",
   "execution_count": 7,
   "id": "f41d5923-132b-4b43-a1f0-de9370b72700",
   "metadata": {},
   "outputs": [
    {
     "name": "stdout",
     "output_type": "stream",
     "text": [
      "[['alloeye_55r1_1_enc', 'alloeye_55r1_1_ret', 'alloeye_54r1_8_enc', 'alloeye_54r1_8_ret', 'alloeye_55r1_2_enc', 'alloeye_55r1_2_ret', 'alloeye_55r1_3_enc', 'alloeye_55r1_3_ret', 'alloeye_55r1_5_enc', 'alloeye_55r1_5_ret', 'alloeye_46r1_13_enc', 'alloeye_46r1_13_ret', 'alloeye_50r2_1_enc', 'alloeye_50r2_1_ret'], ['alloeye_45r1_3_enc', 'alloeye_45r1_3_ret'], ['alloeye_33r1_11_enc', 'alloeye_33r1_11_ret'], ['alloeye_13r2_8_enc', 'alloeye_13r2_8_ret'], ['alloeye_45r1_6_enc', 'alloeye_45r1_6_ret'], ['alloeye_45r1_17_enc', 'alloeye_45r1_17_ret'], ['alloeye_46r1_16_enc', 'alloeye_46r1_16_ret']]\n",
      "executing query\n",
      "SELECT * FROM \"alloeye_timepoint_viewing\" WHERE retrieval_epoch in ('na', 'view') and viewing_id in ('alloeye_55r1_1_enc', 'alloeye_55r1_1_ret', 'alloeye_54r1_8_enc', 'alloeye_54r1_8_ret', 'alloeye_55r1_2_enc', 'alloeye_55r1_2_ret', 'alloeye_55r1_3_enc', 'alloeye_55r1_3_ret', 'alloeye_55r1_5_enc', 'alloeye_55r1_5_ret', 'alloeye_46r1_13_enc', 'alloeye_46r1_13_ret', 'alloeye_50r2_1_enc', 'alloeye_50r2_1_ret') \n",
      "dataframe returned in 3.9105982780456543\n",
      "1 duplicate timepoints dropped\n",
      "executing query\n",
      "SELECT * FROM \"alloeye_timepoint_viewing\" WHERE retrieval_epoch in ('na', 'view') and viewing_id in ('alloeye_45r1_3_enc', 'alloeye_45r1_3_ret') \n",
      "dataframe returned in 2.6954262256622314\n",
      "executing query\n",
      "SELECT * FROM \"alloeye_timepoint_viewing\" WHERE retrieval_epoch in ('na', 'view') and viewing_id in ('alloeye_33r1_11_enc', 'alloeye_33r1_11_ret') \n",
      "dataframe returned in 2.867877960205078\n",
      "executing query\n",
      "SELECT * FROM \"alloeye_timepoint_viewing\" WHERE retrieval_epoch in ('na', 'view') and viewing_id in ('alloeye_13r2_8_enc', 'alloeye_13r2_8_ret') \n",
      "dataframe returned in 2.82586669921875\n",
      "executing query\n",
      "SELECT * FROM \"alloeye_timepoint_viewing\" WHERE retrieval_epoch in ('na', 'view') and viewing_id in ('alloeye_45r1_6_enc', 'alloeye_45r1_6_ret') \n",
      "dataframe returned in 2.8723883628845215\n",
      "executing query\n",
      "SELECT * FROM \"alloeye_timepoint_viewing\" WHERE retrieval_epoch in ('na', 'view') and viewing_id in ('alloeye_45r1_17_enc', 'alloeye_45r1_17_ret') \n",
      "dataframe returned in 2.730621814727783\n",
      "1 duplicate timepoints dropped\n",
      "executing query\n",
      "SELECT * FROM \"alloeye_timepoint_viewing\" WHERE retrieval_epoch in ('na', 'view') and viewing_id in ('alloeye_46r1_16_enc', 'alloeye_46r1_16_ret') \n",
      "dataframe returned in 2.7432918548583984\n"
     ]
    }
   ],
   "source": [
    "all_trials = pd.read_csv(\"C:\\\\Users\\\\Luke\\\\Documents\\\\AlloEye\\\\data\\\\feature_saves\\\\all_real_trials.csv\")\n",
    "all_trials = all_trials.trial_id.to_numpy()\n",
    "n_trials = len(all_trials)\n",
    "n_trials = 13\n",
    "all_viewings = []\n",
    "tracklosses = []\n",
    "technicals = []\n",
    "blinks = []\n",
    "batch_i = 0\n",
    "batch_limit = 6\n",
    "all_viewings.append([])\n",
    "for i in range(n_trials):\n",
    "    if len(all_viewings[batch_i]) > batch_limit:\n",
    "        all_viewings.append([])\n",
    "        batch_i += 1\n",
    "    enc = f\"{all_trials[i]}_enc\"\n",
    "    ret = f\"{all_trials[i]}_ret\"\n",
    "    enc_ret = [enc, ret]\n",
    "    all_viewings[batch_i].append(enc)\n",
    "    all_viewings[batch_i].append(ret)\n",
    "print(all_viewings)\n",
    "for i in range(len(all_viewings)):\n",
    "    viewings = all_viewings[i]\n",
    "    timepoints = fetch_timepoints(\"all\", viewing_id=viewings)\n",
    "    for viewing in viewings:\n",
    "        tps = timepoints[timepoints.viewing_id == viewing].reset_index(drop=True)\n",
    "        if tps is None:\n",
    "            tracklosses.append(1)\n",
    "            continue\n",
    "        b_tps = BlinkProcessor(tps.copy(deep=True)).timepoints\n",
    "        if b_tps is None:\n",
    "            continue\n",
    "        tracklosses.append(BlinkProcessor.total_p_trackloss(b_tps, 'trackloss'))\n",
    "        technicals.append(BlinkProcessor.total_p_trackloss(b_tps, 'tech_trackloss'))\n",
    "        blinks.append(BlinkProcessor.total_p_trackloss(b_tps, 'blink'))\n",
    "        "
   ]
  },
  {
   "cell_type": "code",
   "execution_count": null,
   "id": "9f8de9db-6c8a-4f74-8e38-67a7aaa2d225",
   "metadata": {},
   "outputs": [],
   "source": [
    "fig = plt.figure()\n",
    "fig.add_subplot(311).hist(tracklosses)\n",
    "fig.add_subplot(312).hist(blinks)\n",
    "fig.add_subplot(313).hist(technicals)"
   ]
  }
 ],
 "metadata": {
  "kernelspec": {
   "display_name": "Python [conda env:alloeyepy] *",
   "language": "python",
   "name": "conda-env-alloeyepy-py"
  },
  "language_info": {
   "codemirror_mode": {
    "name": "ipython",
    "version": 3
   },
   "file_extension": ".py",
   "mimetype": "text/x-python",
   "name": "python",
   "nbconvert_exporter": "python",
   "pygments_lexer": "ipython3",
   "version": "3.8.13"
  }
 },
 "nbformat": 4,
 "nbformat_minor": 5
}
