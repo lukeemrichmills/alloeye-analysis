{
 "cells": [
  {
   "cell_type": "code",
   "execution_count": 3,
   "id": "53054592-067f-4aed-8e85-e210fd774d2f",
   "metadata": {},
   "outputs": [],
   "source": [
    "import matplotlib.pyplot as plt\n",
    "import numpy as np"
   ]
  },
  {
   "cell_type": "code",
   "execution_count": 24,
   "id": "11f6ffba-a21b-4b69-9218-a4a22074515e",
   "metadata": {},
   "outputs": [
    {
     "data": {
      "text/plain": [
       "array([[0.46831216, 0.20933318, 0.62783923],\n",
       "       [0.17737418, 0.8489541 , 0.57382947],\n",
       "       [0.1501836 , 0.51250603, 0.70819819],\n",
       "       [0.1502336 , 0.48802301, 0.94074244],\n",
       "       [0.35443656, 0.71672297, 0.81652674],\n",
       "       [0.38708795, 0.40697715, 0.92340437],\n",
       "       [0.18815789, 0.62437996, 0.53316305],\n",
       "       [0.43733622, 0.68579795, 0.63440224],\n",
       "       [0.11406013, 0.52564664, 0.79850661],\n",
       "       [0.13599511, 0.44723378, 0.89933694],\n",
       "       [0.38363233, 0.55047063, 0.78852416],\n",
       "       [0.10087501, 0.62549641, 0.58207416],\n",
       "       [0.21609053, 0.45727811, 0.98774214],\n",
       "       [0.25337482, 0.27690338, 0.64106481],\n",
       "       [0.26292269, 0.47949191, 0.82167331],\n",
       "       [0.17567127, 0.41660144, 0.9133249 ],\n",
       "       [0.07789665, 0.33311468, 0.95494491],\n",
       "       [0.21017036, 0.58891934, 0.89459138],\n",
       "       [0.31898865, 0.4744086 , 0.87686806],\n",
       "       [0.32474968, 0.32469237, 0.49054207],\n",
       "       [0.36015583, 0.83878416, 0.85165165],\n",
       "       [0.33074799, 0.32464604, 0.25092949],\n",
       "       [0.36952077, 0.46764155, 0.65953098],\n",
       "       [0.30586401, 0.73488763, 0.6778691 ],\n",
       "       [0.21032423, 0.21014796, 0.7405086 ]])"
      ]
     },
     "execution_count": 24,
     "metadata": {},
     "output_type": "execute_result"
    }
   ],
   "source": [
    "groups_coarse = ['MCI', 'HO', 'HY']\n",
    "groups_fine = ['MCI+', 'MCI-', 'MCI?', 'HO', 'HY']\n",
    "conditions = ['StayS', 'WalkS', 'TelS', 'StayR', 'WalkR', 'TelR']\n",
    "x_scale_3 = np.array([1, 2, 3])\n",
    "x_scale_5 = np.array([1, 2, 3, 4, 5])\n",
    "x_scale_6 = np.array([1, 2, 3, 4, 5, 6])\n",
    "# y_scale = np.linspace(0,1,11)\n",
    "std_3 = 0.15\n",
    "std_5 = 0.1\n",
    "std_6 = 0.8\n",
    "low_3 = np.random.normal(0.25, std_3, 25).reshape(-1,1)\n",
    "middle_3 = np.random.normal(0.5, std_3, 25).reshape(-1,1)\n",
    "high_3 = np.random.normal(0.75, std_3, 25).reshape(-1,1)\n",
    "low_5 = np.random.normal(0.1, std_5, 25).reshape(-1,1)\n",
    "low2_5 = np.random.normal(0.3, std_5, 25).reshape(-1,1)\n",
    "mid_5 = np.random.normal(0.5, std_5, 25).reshape(-1,1)\n",
    "high2_5 = np.random.normal(0.7, std_5, 25).reshape(-1,1)\n",
    "high_5 = np.random.normal(0.9, std_5, 25).reshape(-1,1)\n",
    "low_mid_high = np.concatenate([low_3, middle_3, high_3], axis=1)\n",
    "high_mid_low = np.concatenate([high_3, middle_3, low_3], axis=1)\n",
    "low_high_5 = np.concatenate([low_5, low2_5, mid_5, high2_5, high_5], axis=1)\n",
    "high_low_5 = np.concatenate([high_5, high2_5, mid_5, low_5, , , , ], axis=1)"
   ]
  },
  {
   "cell_type": "code",
   "execution_count": 22,
   "id": "10e3044b-adac-47a6-89e9-e4ac251b56d9",
   "metadata": {},
   "outputs": [],
   "source": [
    "def three_way(data, title):\n",
    "    ax = plt.figure().add_subplot()\n",
    "    medianprops = dict(linestyle='-', linewidth=1, color='black')\n",
    "    bplot1 = ax.boxplot(low_mid_high, patch_artist=True, \n",
    "                        medianprops=medianprops)\n",
    "    ax.set_ylim(0, 1)\n",
    "    ax.set_yticklabels(\"\")\n",
    "    ax.set_xticklabels(groups_coarse)\n",
    "    ax.set_title(title)\n",
    "    # fill with colors\n",
    "    colors = ['pink', 'lightblue', 'lightgreen']\n",
    "\n",
    "    for patch, color in zip(bplot1['boxes'], colors):\n",
    "        patch.set_facecolor(color)"
   ]
  },
  {
   "cell_type": "code",
   "execution_count": 25,
   "id": "a70ed235-c1a9-402e-8f1f-66d8fb34106f",
   "metadata": {},
   "outputs": [
    {
     "data": {
      "image/png": "[encoded data removed]",
      "text/plain": [
       "<Figure size 640x480 with 1 Axes>"
      ]
     },
     "metadata": {},
     "output_type": "display_data"
    }
   ],
   "source": [
    "# performance\n",
    "three_way(low_mid_high, 'performance')"
   ]
  }
 ],
 "metadata": {
  "kernelspec": {
   "display_name": "Python 3 (ipykernel)",
   "language": "python",
   "name": "python3"
  },
  "language_info": {
   "codemirror_mode": {
    "name": "ipython",
    "version": 3
   },
   "file_extension": ".py",
   "mimetype": "text/x-python",
   "name": "python",
   "nbconvert_exporter": "python",
   "pygments_lexer": "ipython3",
   "version": "3.8.13"
  }
 },
 "nbformat": 4,
 "nbformat_minor": 5
}
