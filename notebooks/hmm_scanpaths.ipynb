{
 "cells": [
  {
   "cell_type": "markdown",
   "source": [
    "# hmm applied to scanpaths"
   ],
   "metadata": {
    "collapsed": false
   }
  },
  {
   "cell_type": "code",
   "execution_count": 47,
   "outputs": [],
   "source": [
    "# imports\n",
    "import hmmlearn\n",
    "from hmmlearn import hmm\n",
    "from hmmlearn.vhmm import VariationalCategoricalHMM\n",
    "import numpy as np\n",
    "import pandas as pd\n",
    "import matplotlib.pyplot as plt\n",
    "from mpl_toolkits.mplot3d.art3d import Poly3DCollection\n",
    "import matplotlib.cm as cm\n",
    "from matplotlib.animation import FuncAnimation\n",
    "import itertools\n",
    "import random\n",
    "import seaborn as sns\n",
    "import os\n",
    "import sys\n",
    "module_path = os.path.abspath(os.path.join('..'))\n",
    "if module_path not in sys.path:\n",
    "    sys.path.append(module_path)\n",
    "\n",
    "\n",
    "from src.d00_utils.TaskObjects import *\n",
    "from src.d03_processing.fixations.FixationProcessor import FixationProcessor\n",
    "from src.d03_processing.TimepointProcessor import TimepointProcessor\n",
    "from src.d01_data.fetch.fetch_viewings import fetch_viewings\n",
    "from src.d01_data.fetch.fetch_trials import fetch_trials\n",
    "from src.d01_data.fetch.fetch_fixations import fetch_fixations\n",
    "from src.d03_processing.aoi import collision_sphere_radius\n",
    "from src.d03_processing.feature_extract.to_viewing import to_viewing\n",
    "from src.d03_processing.fixations.FixAlgos import *\n",
    "from src.d03_processing.feature_calculate.viewing_compare_calcs import ea_td\n",
    "from src.d03_processing.feature_calculate.transition_calculations import *\n",
    "from src.d04_wrangling.add_ppt_info import get_ppts_by_group\n",
    "from sklearn.preprocessing import LabelEncoder\n",
    "from src.d03_processing.feature_calculate.fix_sacc_calculations import n_fix, dwell_time"
   ],
   "metadata": {
    "collapsed": false,
    "ExecuteTime": {
     "end_time": "2023-05-24T17:10:23.499616100Z",
     "start_time": "2023-05-24T17:10:23.487794600Z"
    }
   }
  },
  {
   "cell_type": "code",
   "execution_count": 48,
   "outputs": [],
   "source": [
    "def get_object_position(obj, trial, prepostshift):\n",
    "    for i in [1, 2, 3, 4]:\n",
    "        # If any matches were found, return the corresponding x and z values\n",
    "        if obj == trial[f'obj{i}_name'].values[0]:\n",
    "            return np.array([trial[f'obj{i}_{prepostshift}_x'].values[0], trial[f'obj{i}_{prepostshift}_z'].values[0]])\n",
    "\n",
    "def convert_AOIs(fix_df, trial=None, prepostshift=None, encoder=False):\n",
    "\n",
    "    # get trial row if none\n",
    "    if trial is None:\n",
    "        trial_id = fix_df.trial_id.values[0]\n",
    "        trial = fetch_trials(\"all\", trial_ids=[trial_id], suppress_print=True, remove_training_trials=False, practice=[False, True])\n",
    "\n",
    "    # get viewing type\n",
    "    if prepostshift is None:\n",
    "        prepostshift = 'preshift' if 'enc' in fix_df.viewing_id.values[0] else 'postshift'\n",
    "\n",
    "\n",
    "    new_objects = fix_df.object.copy()\n",
    "    pd.options.mode.chained_assignment = None  # default='warn'\n",
    "\n",
    "    # change names of objects to set AOI names\n",
    "    new_objects[new_objects.isin(TaskObjects.off_table)] = 'External'\n",
    "    new_objects[new_objects.str.contains('Table')] = 'Table'\n",
    "    new_objects[new_objects == TaskObjects.invisible_object] = 'Previous'\n",
    "    new_objects[new_objects == trial.obj1_name.values[0]] = 'Moved'\n",
    "\n",
    "    # for objs 2 to 4, change name according to distance from moved object\n",
    "    obj1_loc = np.array([trial[f'obj1_{prepostshift}_x'].values[0], trial[f'obj1_{prepostshift}_z'].values[0]])\n",
    "    objs2_to_4 = np.unique(new_objects[(new_objects != 'Moved') & new_objects.isin(TaskObjects.array_objects)])\n",
    "    objs2_to_4_distance_dict = {'object': [], 'distance': []}\n",
    "    for obj in objs2_to_4:\n",
    "        objs2_to_4_distance_dict['object'].append(obj)\n",
    "        obj_loc = get_object_position(obj, trial, prepostshift)\n",
    "        objs2_to_4_distance_dict['distance'].append(np.linalg.norm(obj_loc - obj1_loc))\n",
    "    objs_df = pd.DataFrame(objs2_to_4_distance_dict)\n",
    "    objs_df = objs_df.sort_values(by='distance').reset_index(drop=True)\n",
    "    for obj in objs2_to_4:\n",
    "        new_objects[new_objects == obj] = f\"Obj{objs_df.index.values[objs_df.object == obj][0]+2}\"\n",
    "\n",
    "    # optionally convert to integer labels\n",
    "    if encoder:\n",
    "        new_objects = aoi_label_encoder(new_objects)\n",
    "    fix_df.object = new_objects\n",
    "    return fix_df\n",
    "\n",
    "def aoi_label_encoder(fixation_sequence):\n",
    "    # Define your custom mapping\n",
    "    label_mapping = {\"Previous\": 0, \"Moved\": 1, \"Obj2\": 2, \"Obj3\": 3, \"Obj4\": 4, \"Table\": 5, \"External\": 6}\n",
    "\n",
    "    # Encode your labels using the mapping\n",
    "    encoded_labels = [label_mapping[label] for label in fixation_sequence]\n",
    "\n",
    "    return encoded_labels\n",
    "\n",
    "def split_fixations(fix_df, bin_size=50):\n",
    "    fixations = fix_df.copy().sort_values(by='start_time')\n",
    "    fixation_sequence = []\n",
    "\n",
    "    for index, row in fixations.iterrows():\n",
    "        aoi, duration = row['object'], row['duration_time']\n",
    "\n",
    "        while duration >= bin_size:\n",
    "            fixation_sequence.append(aoi)\n",
    "            duration -= bin_size\n",
    "\n",
    "    return np.array(fixation_sequence)"
   ],
   "metadata": {
    "collapsed": false,
    "ExecuteTime": {
     "end_time": "2023-05-24T17:10:23.532583800Z",
     "start_time": "2023-05-24T17:10:23.506631600Z"
    }
   }
  },
  {
   "cell_type": "code",
   "execution_count": 49,
   "outputs": [],
   "source": [
    "# get data\n",
    "pids_dict = get_ppts_by_group()\n",
    "young_pids = pids_dict['Younger']\n",
    "old_pids = pids_dict['Older']\n",
    "mci_pids = pids_dict['MCI+']\n",
    "# cutoff = 7000   # ms\n",
    "pid_groups = [young_pids, old_pids, mci_pids]\n",
    "group_names = ['Younger', 'Older', 'MCI']\n",
    "time_bin_size = 1000 # ms\n",
    "# n_bins = int((cutoff / time_bin_size )) + 1\n",
    "viewing_type = 'ret'"
   ],
   "metadata": {
    "collapsed": false,
    "ExecuteTime": {
     "end_time": "2023-05-24T17:10:23.532583800Z",
     "start_time": "2023-05-24T17:10:23.516628500Z"
    }
   }
  },
  {
   "cell_type": "code",
   "execution_count": 52,
   "outputs": [
    {
     "ename": "AttributeError",
     "evalue": "'MultinomialHMM' object has no attribute 'print'",
     "output_type": "error",
     "traceback": [
      "\u001B[1;31m---------------------------------------------------------------------------\u001B[0m",
      "\u001B[1;31mAttributeError\u001B[0m                            Traceback (most recent call last)",
      "Cell \u001B[1;32mIn[52], line 1\u001B[0m\n\u001B[1;32m----> 1\u001B[0m \u001B[43mmodel\u001B[49m\u001B[38;5;241;43m.\u001B[39;49m\u001B[43mprint\u001B[49m\n",
      "\u001B[1;31mAttributeError\u001B[0m: 'MultinomialHMM' object has no attribute 'print'"
     ]
    }
   ],
   "source": [
    "model."
   ],
   "metadata": {
    "collapsed": false,
    "ExecuteTime": {
     "end_time": "2023-05-24T17:11:16.228160500Z",
     "start_time": "2023-05-24T17:11:16.180076400Z"
    }
   }
  },
  {
   "cell_type": "code",
   "execution_count": 53,
   "outputs": [
    {
     "name": "stderr",
     "output_type": "stream",
     "text": [
      "MultinomialHMM has undergone major changes. The previous version was implementing a CategoricalHMM (a special case of MultinomialHMM). This new implementation follows the standard definition for a Multinomial distribution (e.g. as in https://en.wikipedia.org/wiki/Multinomial_distribution). See these issues for details:\n",
      "https://github.com/hmmlearn/hmmlearn/issues/335\n",
      "https://github.com/hmmlearn/hmmlearn/issues/340\n"
     ]
    },
    {
     "name": "stdout",
     "output_type": "stream",
     "text": [
      "Older *****************************************************************\n",
      "alloeye_1\n",
      "- dataframe returned in 0.10175609588623047\n",
      "[6 6 6 6 6 5 5 5 5 2 1 1 1 1 1 2 2 2 2 3 1 1 1 1 1 1 1 1 1 1 1 1 1 1 1 1 1\n",
      " 1 1 1 3 3 3 3 1 1 1 1 1 1 1 1 1 1 1 1 1 1 1 1 1 1 1 1 1 1 1 1 1 1 3 3 3 3\n",
      " 3 1 1 1 1 1 1 1 1 1 1 1 1 1 1 1 1 2 2 2 2 2 1 1 1 1 1 1 1 1 1 1 1 5 5 5 5\n",
      " 5 5 5 5 1 1 1 1 1]\n"
     ]
    },
    {
     "name": "stderr",
     "output_type": "stream",
     "text": [
      "MultinomialHMM has undergone major changes. The previous version was implementing a CategoricalHMM (a special case of MultinomialHMM). This new implementation follows the standard definition for a Multinomial distribution (e.g. as in https://en.wikipedia.org/wiki/Multinomial_distribution). See these issues for details:\n",
      "https://github.com/hmmlearn/hmmlearn/issues/335\n",
      "https://github.com/hmmlearn/hmmlearn/issues/340\n",
      "MultinomialHMM has undergone major changes. The previous version was implementing a CategoricalHMM (a special case of MultinomialHMM). This new implementation follows the standard definition for a Multinomial distribution (e.g. as in https://en.wikipedia.org/wiki/Multinomial_distribution). See these issues for details:\n",
      "https://github.com/hmmlearn/hmmlearn/issues/335\n",
      "https://github.com/hmmlearn/hmmlearn/issues/340\n",
      "MultinomialHMM has undergone major changes. The previous version was implementing a CategoricalHMM (a special case of MultinomialHMM). This new implementation follows the standard definition for a Multinomial distribution (e.g. as in https://en.wikipedia.org/wiki/Multinomial_distribution). See these issues for details:\n",
      "https://github.com/hmmlearn/hmmlearn/issues/335\n",
      "https://github.com/hmmlearn/hmmlearn/issues/340\n",
      "MultinomialHMM has undergone major changes. The previous version was implementing a CategoricalHMM (a special case of MultinomialHMM). This new implementation follows the standard definition for a Multinomial distribution (e.g. as in https://en.wikipedia.org/wiki/Multinomial_distribution). See these issues for details:\n",
      "https://github.com/hmmlearn/hmmlearn/issues/335\n",
      "https://github.com/hmmlearn/hmmlearn/issues/340\n"
     ]
    },
    {
     "name": "stdout",
     "output_type": "stream",
     "text": [
      "(-11.925199103046365, array([0, 0, 0, 0, 0, 0, 0, 0, 0, 0, 0, 0, 0, 0, 0, 0, 0, 0, 0, 0, 0, 0,\n",
      "       0, 0, 0, 0, 0, 0, 0, 0, 0, 0, 0, 0, 0, 0, 0, 0, 0, 0, 0, 0, 0, 0,\n",
      "       0, 0, 0, 0, 0, 0, 0, 0, 0, 0, 0, 0, 0, 0, 0, 0, 0, 0, 0, 0, 0, 0,\n",
      "       0, 0, 0, 0, 0, 0, 0, 0, 0, 0, 0, 0, 0, 0, 0, 0, 0, 0, 0, 0, 0, 0,\n",
      "       0, 0, 0, 0, 0, 0, 0, 0, 0, 0, 0, 0, 0, 0, 0, 0, 0, 0, 0, 0, 0, 0,\n",
      "       0, 0, 0, 0, 0, 0, 0, 0, 0, 0], dtype=int64))\n",
      "[3 5 5 1 1 3 3 3 3 4 4 5 5 1 1 1 1 1 1 1 1 1 3 3 3 4 4 4 4 5 5 5 5 5 5 5 5\n",
      " 5 1 1 1 1 1 1 1 1 1 1 1 1 1 1 1 1 1 1 1 1 1 1 5 5 5 1 1 1 1 1 1 1 5 5 5 5\n",
      " 5 3 3 3 3 1 1 1 1 1 2 2 2 1 1 1 3 3 3 3 3 3 3 3 3 3 3]\n",
      "(-5.290289513187561, array([1, 1, 1, 1, 1, 1, 1, 1, 1, 1, 1, 1, 1, 1, 1, 1, 1, 1, 1, 1, 1, 1,\n",
      "       1, 1, 1, 1, 1, 1, 1, 1, 1, 1, 1, 1, 1, 1, 1, 1, 1, 1, 1, 1, 1, 1,\n",
      "       1, 1, 1, 1, 1, 1, 1, 1, 1, 1, 1, 1, 1, 1, 1, 1, 1, 1, 1, 1, 1, 1,\n",
      "       1, 1, 1, 1, 1, 1, 1, 1, 1, 1, 1, 1, 1, 1, 1, 1, 1, 1, 1, 1, 1, 1,\n",
      "       1, 1, 1, 1, 1, 1, 1, 1, 1, 1, 1, 1, 1], dtype=int64))\n",
      "[5 5 5 5 1 1 1 1 1 1 1 1 1 1 2 2 2 2 2 2 2 2 2 2 2 2 1 1 1 1 5 5 1 1 1 1 2\n",
      " 2 2 2 2 2 2 2 2 2 2 2 2 2 2 4 4 2 2 2 2 4 4 4 4 3 3 1 1 1 1 1 1 1 1 1 1 1\n",
      " 1 1 1 1 1 1 1 1 1 1 1 1 1 1 1 1 1 1 1 1 1 1 1 1 1 1 1 1 1 1 1 1 1 1 1 1 1\n",
      " 1 1 1]\n",
      "(-35.65829884679024, array([0, 1, 1, 1, 1, 1, 1, 1, 1, 1, 1, 1, 1, 1, 1, 1, 1, 1, 1, 1, 1, 1,\n",
      "       1, 1, 1, 1, 1, 1, 1, 1, 1, 1, 1, 1, 1, 1, 1, 1, 1, 1, 1, 1, 1, 1,\n",
      "       1, 1, 1, 1, 1, 1, 1, 1, 1, 1, 1, 1, 1, 1, 1, 1, 1, 1, 1, 1, 1, 1,\n",
      "       1, 1, 1, 1, 1, 1, 1, 1, 1, 1, 1, 1, 1, 1, 1, 1, 1, 1, 1, 1, 1, 1,\n",
      "       1, 1, 1, 1, 1, 1, 1, 1, 1, 1, 1, 1, 1, 1, 1, 1, 1, 1, 1, 1, 1, 1,\n",
      "       1, 1, 1, 1], dtype=int64))\n",
      "[6 6 6 6 5 5 5 5 5 5 5 2 2 1 1 1 1 2 2 2 2 2 2 2 5 5 5 5 5 1 1 1 5 5 5 4 4\n",
      " 4 4 5 5 5 1 1 1 1 1 5 5 5 5 5 5 1 3 3 5 5 2 2 2 2 2 2 2 2 2 2 2 2 2 2 2 2\n",
      " 2 2 2 2 2 2 2 2 2 1 1 1 1 1 1 1 1 1 1 1 1 1 1 4 2 2 1 1 1]\n",
      "(-7.538830543098119, array([1, 1, 1, 1, 1, 1, 1, 1, 1, 1, 1, 1, 1, 1, 1, 1, 1, 1, 1, 1, 1, 1,\n",
      "       1, 1, 1, 1, 1, 1, 1, 1, 1, 1, 1, 1, 1, 1, 1, 1, 1, 1, 1, 1, 1, 1,\n",
      "       1, 1, 1, 1, 1, 1, 1, 1, 1, 1, 1, 1, 1, 1, 1, 1, 1, 1, 1, 1, 1, 1,\n",
      "       1, 1, 1, 1, 1, 1, 1, 1, 1, 1, 1, 1, 1, 1, 1, 1, 1, 1, 1, 1, 1, 1,\n",
      "       1, 1, 1, 1, 1, 1, 1, 1, 1, 1, 1, 1, 1, 1, 1], dtype=int64))\n",
      "[4 4 4 2 2 2 2 2 2 4 4 4 4 4 4 3 3 3 3 3 5 5 2 2 2 2 2 2 2 2 2 2 2 4 4 4 5\n",
      " 3 3 3 4 4 4 4 4 4 4 4 4 2 2 2 2 2 2 2 2 2 1 1 1 1 1 0 4 4 4 4 4 4 4 4 5 5\n",
      " 5 5 5 1 1 1 1 1 1 1 1 1 1 2 2 2 2 2 2 2 2 6 6]\n"
     ]
    },
    {
     "ename": "ValueError",
     "evalue": "startprob_ must sum to 1 (got nan)",
     "output_type": "error",
     "traceback": [
      "\u001B[1;31m---------------------------------------------------------------------------\u001B[0m",
      "\u001B[1;31mValueError\u001B[0m                                Traceback (most recent call last)",
      "Cell \u001B[1;32mIn[53], line 57\u001B[0m\n\u001B[0;32m     54\u001B[0m \u001B[38;5;66;03m# fit the HMM to our data\u001B[39;00m\n\u001B[0;32m     55\u001B[0m model\u001B[38;5;241m.\u001B[39mfit(aoi_sequence\u001B[38;5;241m.\u001B[39mreshape(\u001B[38;5;241m-\u001B[39m\u001B[38;5;241m1\u001B[39m, \u001B[38;5;241m1\u001B[39m))\n\u001B[1;32m---> 57\u001B[0m \u001B[38;5;28mprint\u001B[39m(\u001B[43mmodel\u001B[49m\u001B[38;5;241;43m.\u001B[39;49m\u001B[43mdecode\u001B[49m\u001B[43m(\u001B[49m\u001B[43maoi_sequence\u001B[49m\u001B[38;5;241;43m.\u001B[39;49m\u001B[43mreshape\u001B[49m\u001B[43m(\u001B[49m\u001B[38;5;241;43m-\u001B[39;49m\u001B[38;5;241;43m1\u001B[39;49m\u001B[43m,\u001B[49m\u001B[43m \u001B[49m\u001B[38;5;241;43m1\u001B[39;49m\u001B[43m)\u001B[49m\u001B[43m)\u001B[49m)\n",
      "File \u001B[1;32mC:\\ProgramData\\Anaconda3\\envs\\alloeye4\\lib\\site-packages\\hmmlearn\\base.py:324\u001B[0m, in \u001B[0;36m_AbstractHMM.decode\u001B[1;34m(self, X, lengths, algorithm)\u001B[0m\n\u001B[0;32m    295\u001B[0m \u001B[38;5;124;03m\"\"\"\u001B[39;00m\n\u001B[0;32m    296\u001B[0m \u001B[38;5;124;03mFind most likely state sequence corresponding to ``X``.\u001B[39;00m\n\u001B[0;32m    297\u001B[0m \n\u001B[1;32m   (...)\u001B[0m\n\u001B[0;32m    321\u001B[0m \u001B[38;5;124;03mscore : Compute the log probability under the model.\u001B[39;00m\n\u001B[0;32m    322\u001B[0m \u001B[38;5;124;03m\"\"\"\u001B[39;00m\n\u001B[0;32m    323\u001B[0m check_is_fitted(\u001B[38;5;28mself\u001B[39m, \u001B[38;5;124m\"\u001B[39m\u001B[38;5;124mstartprob_\u001B[39m\u001B[38;5;124m\"\u001B[39m)\n\u001B[1;32m--> 324\u001B[0m \u001B[38;5;28;43mself\u001B[39;49m\u001B[38;5;241;43m.\u001B[39;49m\u001B[43m_check\u001B[49m\u001B[43m(\u001B[49m\u001B[43m)\u001B[49m\n\u001B[0;32m    326\u001B[0m algorithm \u001B[38;5;241m=\u001B[39m algorithm \u001B[38;5;129;01mor\u001B[39;00m \u001B[38;5;28mself\u001B[39m\u001B[38;5;241m.\u001B[39malgorithm\n\u001B[0;32m    327\u001B[0m \u001B[38;5;28;01mif\u001B[39;00m algorithm \u001B[38;5;129;01mnot\u001B[39;00m \u001B[38;5;129;01min\u001B[39;00m DECODER_ALGORITHMS:\n",
      "File \u001B[1;32mC:\\ProgramData\\Anaconda3\\envs\\alloeye4\\lib\\site-packages\\hmmlearn\\hmm.py:903\u001B[0m, in \u001B[0;36mMultinomialHMM._check\u001B[1;34m(self)\u001B[0m\n\u001B[0;32m    902\u001B[0m \u001B[38;5;28;01mdef\u001B[39;00m \u001B[38;5;21m_check\u001B[39m(\u001B[38;5;28mself\u001B[39m):\n\u001B[1;32m--> 903\u001B[0m     \u001B[38;5;28;43msuper\u001B[39;49m\u001B[43m(\u001B[49m\u001B[43m)\u001B[49m\u001B[38;5;241;43m.\u001B[39;49m\u001B[43m_check\u001B[49m\u001B[43m(\u001B[49m\u001B[43m)\u001B[49m\n\u001B[0;32m    904\u001B[0m     \u001B[38;5;28mself\u001B[39m\u001B[38;5;241m.\u001B[39memissionprob_ \u001B[38;5;241m=\u001B[39m np\u001B[38;5;241m.\u001B[39matleast_2d(\u001B[38;5;28mself\u001B[39m\u001B[38;5;241m.\u001B[39memissionprob_)\n\u001B[0;32m    905\u001B[0m     n_features \u001B[38;5;241m=\u001B[39m \u001B[38;5;28mgetattr\u001B[39m(\u001B[38;5;28mself\u001B[39m, \u001B[38;5;124m\"\u001B[39m\u001B[38;5;124mn_features\u001B[39m\u001B[38;5;124m\"\u001B[39m, \u001B[38;5;28mself\u001B[39m\u001B[38;5;241m.\u001B[39memissionprob_\u001B[38;5;241m.\u001B[39mshape[\u001B[38;5;241m1\u001B[39m])\n",
      "File \u001B[1;32mC:\\ProgramData\\Anaconda3\\envs\\alloeye4\\lib\\site-packages\\hmmlearn\\base.py:949\u001B[0m, in \u001B[0;36mBaseHMM._check\u001B[1;34m(self)\u001B[0m\n\u001B[0;32m    947\u001B[0m \u001B[38;5;28;01mif\u001B[39;00m \u001B[38;5;28mlen\u001B[39m(\u001B[38;5;28mself\u001B[39m\u001B[38;5;241m.\u001B[39mstartprob_) \u001B[38;5;241m!=\u001B[39m \u001B[38;5;28mself\u001B[39m\u001B[38;5;241m.\u001B[39mn_components:\n\u001B[0;32m    948\u001B[0m     \u001B[38;5;28;01mraise\u001B[39;00m \u001B[38;5;167;01mValueError\u001B[39;00m(\u001B[38;5;124m\"\u001B[39m\u001B[38;5;124mstartprob_ must have length n_components\u001B[39m\u001B[38;5;124m\"\u001B[39m)\n\u001B[1;32m--> 949\u001B[0m \u001B[38;5;28;43mself\u001B[39;49m\u001B[38;5;241;43m.\u001B[39;49m\u001B[43m_check_sum_1\u001B[49m\u001B[43m(\u001B[49m\u001B[38;5;124;43m\"\u001B[39;49m\u001B[38;5;124;43mstartprob_\u001B[39;49m\u001B[38;5;124;43m\"\u001B[39;49m\u001B[43m)\u001B[49m\n\u001B[0;32m    951\u001B[0m \u001B[38;5;28mself\u001B[39m\u001B[38;5;241m.\u001B[39mtransmat_ \u001B[38;5;241m=\u001B[39m np\u001B[38;5;241m.\u001B[39masarray(\u001B[38;5;28mself\u001B[39m\u001B[38;5;241m.\u001B[39mtransmat_)\n\u001B[0;32m    952\u001B[0m \u001B[38;5;28;01mif\u001B[39;00m \u001B[38;5;28mself\u001B[39m\u001B[38;5;241m.\u001B[39mtransmat_\u001B[38;5;241m.\u001B[39mshape \u001B[38;5;241m!=\u001B[39m (\u001B[38;5;28mself\u001B[39m\u001B[38;5;241m.\u001B[39mn_components, \u001B[38;5;28mself\u001B[39m\u001B[38;5;241m.\u001B[39mn_components):\n",
      "File \u001B[1;32mC:\\ProgramData\\Anaconda3\\envs\\alloeye4\\lib\\site-packages\\hmmlearn\\base.py:931\u001B[0m, in \u001B[0;36mBaseHMM._check_sum_1\u001B[1;34m(self, name)\u001B[0m\n\u001B[0;32m    929\u001B[0m s \u001B[38;5;241m=\u001B[39m \u001B[38;5;28mgetattr\u001B[39m(\u001B[38;5;28mself\u001B[39m, name)\u001B[38;5;241m.\u001B[39msum(axis\u001B[38;5;241m=\u001B[39m\u001B[38;5;241m-\u001B[39m\u001B[38;5;241m1\u001B[39m)\n\u001B[0;32m    930\u001B[0m \u001B[38;5;28;01mif\u001B[39;00m \u001B[38;5;129;01mnot\u001B[39;00m np\u001B[38;5;241m.\u001B[39mallclose(s, \u001B[38;5;241m1\u001B[39m):\n\u001B[1;32m--> 931\u001B[0m     \u001B[38;5;28;01mraise\u001B[39;00m \u001B[38;5;167;01mValueError\u001B[39;00m(\n\u001B[0;32m    932\u001B[0m         \u001B[38;5;124mf\u001B[39m\u001B[38;5;124m\"\u001B[39m\u001B[38;5;132;01m{\u001B[39;00mname\u001B[38;5;132;01m}\u001B[39;00m\u001B[38;5;124m must sum to 1 (got \u001B[39m\u001B[38;5;132;01m{\u001B[39;00ms\u001B[38;5;132;01m:\u001B[39;00m\u001B[38;5;124m.4f\u001B[39m\u001B[38;5;132;01m}\u001B[39;00m\u001B[38;5;124m)\u001B[39m\u001B[38;5;124m\"\u001B[39m \u001B[38;5;28;01mif\u001B[39;00m s\u001B[38;5;241m.\u001B[39mndim \u001B[38;5;241m==\u001B[39m \u001B[38;5;241m0\u001B[39m \u001B[38;5;28;01melse\u001B[39;00m\n\u001B[0;32m    933\u001B[0m         \u001B[38;5;124mf\u001B[39m\u001B[38;5;124m\"\u001B[39m\u001B[38;5;132;01m{\u001B[39;00mname\u001B[38;5;132;01m}\u001B[39;00m\u001B[38;5;124m rows must sum to 1 (got \u001B[39m\u001B[38;5;132;01m{\u001B[39;00ms\u001B[38;5;132;01m}\u001B[39;00m\u001B[38;5;124m)\u001B[39m\u001B[38;5;124m\"\u001B[39m \u001B[38;5;28;01mif\u001B[39;00m s\u001B[38;5;241m.\u001B[39mndim \u001B[38;5;241m==\u001B[39m \u001B[38;5;241m1\u001B[39m \u001B[38;5;28;01melse\u001B[39;00m\n\u001B[0;32m    934\u001B[0m         \u001B[38;5;124m\"\u001B[39m\u001B[38;5;124mExpected 1D or 2D array\u001B[39m\u001B[38;5;124m\"\u001B[39m)\n",
      "\u001B[1;31mValueError\u001B[0m: startprob_ must sum to 1 (got nan)"
     ]
    }
   ],
   "source": [
    "plt.close('all')\n",
    "\n",
    "grouped_all_ps = []\n",
    "for g in range(len(pid_groups)):\n",
    "    g = 1\n",
    "    print(group_names[g], '*****************************************************************')\n",
    "    pids = pid_groups[g]\n",
    "    n_pids = len(pids)\n",
    "\n",
    "    n_pids = 3\n",
    "    for p in range(n_pids):\n",
    "        # p = 3\n",
    "        print(pids[p])\n",
    "        all_fixsac = fetch_fixations(pids[p], practice=True, suppress_print=True)\n",
    "        all_fixsac = all_fixsac[all_fixsac.viewing_id.str.contains(viewing_type)]\n",
    "        all_fix = all_fixsac[all_fixsac.fixation_or_saccade == 'fixation'].reset_index(drop=True).sort_values(by='start_time')\n",
    "        all_trials = fetch_trials(pids[p], practice=[True, False], suppress_print=True)\n",
    "        # print(all_trials.shape)\n",
    "        trials_fix = np.unique(all_fix.trial_id)\n",
    "        n_trials = len(trials_fix)\n",
    "        n_valid_trials = n_trials\n",
    "\n",
    "        n_trials = 10 if n_trials > 10 else n_trials\n",
    "        for t in range(n_trials):\n",
    "            # t = 15\n",
    "            trial_id = trials_fix[t]\n",
    "            trial = all_trials[all_trials.trial_id == trial_id].reset_index(drop=True)\n",
    "            fixations = all_fix[all_fix.trial_id == trial_id].reset_index(drop=True).sort_values(by='start_time')\n",
    "            # print(\"fixations\", fixations.shape)\n",
    "            # print(\"trial\", trial_id)\n",
    "            if len(trial) < 1:\n",
    "                n_valid_trials -= 1\n",
    "                continue\n",
    "            if len(fixations) < 1:\n",
    "                n_valid_trials -= 1\n",
    "                continue\n",
    "\n",
    "            # external fixations only\n",
    "            ext_fix = external_fixations(fixations)\n",
    "\n",
    "            # convert to areas of interest\n",
    "            ext_fix = convert_AOIs(ext_fix, trial, 'postshift', encoder=True)\n",
    "\n",
    "            # split into sequence\n",
    "            aoi_sequence = split_fixations(ext_fix)\n",
    "            print(aoi_sequence)\n",
    "\n",
    "            # the number of states in our HMM\n",
    "            n_states = 2\n",
    "\n",
    "            # initialize the HMM\n",
    "            model = hmm.MultinomialHMM(n_components=n_states, algorithm='viterbi', n_iter=100)\n",
    "\n",
    "            # fit the HMM to our data\n",
    "            model.fit(aoi_sequence.reshape(-1, 1))\n",
    "\n",
    "            print(model.decode(aoi_sequence.reshape(-1, 1)))\n",
    "                        # VariationalCategoricalHMM(n_components=2)\n",
    "# print(\"test post\")"
   ],
   "metadata": {
    "collapsed": false,
    "ExecuteTime": {
     "end_time": "2023-05-24T17:12:41.707468400Z",
     "start_time": "2023-05-24T17:12:41.146570200Z"
    }
   }
  },
  {
   "cell_type": "code",
   "execution_count": 50,
   "outputs": [],
   "source": [],
   "metadata": {
    "collapsed": false,
    "ExecuteTime": {
     "end_time": "2023-05-24T17:10:28.092356700Z",
     "start_time": "2023-05-24T17:10:28.083380800Z"
    }
   }
  },
  {
   "cell_type": "code",
   "execution_count": 50,
   "outputs": [],
   "source": [],
   "metadata": {
    "collapsed": false,
    "ExecuteTime": {
     "end_time": "2023-05-24T17:10:28.101332800Z",
     "start_time": "2023-05-24T17:10:28.086372100Z"
    }
   }
  },
  {
   "cell_type": "code",
   "execution_count": 50,
   "outputs": [],
   "source": [],
   "metadata": {
    "collapsed": false,
    "ExecuteTime": {
     "end_time": "2023-05-24T17:10:28.145242800Z",
     "start_time": "2023-05-24T17:10:28.102329600Z"
    }
   }
  }
 ],
 "metadata": {
  "kernelspec": {
   "display_name": "Python 3",
   "language": "python",
   "name": "python3"
  },
  "language_info": {
   "codemirror_mode": {
    "name": "ipython",
    "version": 2
   },
   "file_extension": ".py",
   "mimetype": "text/x-python",
   "name": "python",
   "nbconvert_exporter": "python",
   "pygments_lexer": "ipython2",
   "version": "2.7.6"
  }
 },
 "nbformat": 4,
 "nbformat_minor": 0
}
